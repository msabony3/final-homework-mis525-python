{
 "cells": [
  {
   "cell_type": "markdown",
   "metadata": {},
   "source": [
    "## Assignment 5 (is worth 15 points and is due Tuesday 12/3 by 11:59pm)."
   ]
  },
  {
   "cell_type": "code",
   "execution_count": 23,
   "metadata": {},
   "outputs": [],
   "source": [
    "#Q1: Import numpy and pandas (0.25 p).\n",
    "import numpy as np\n",
    "import pandas as pd"
   ]
  },
  {
   "cell_type": "code",
   "execution_count": 25,
   "metadata": {},
   "outputs": [],
   "source": [
    "#Q2: Read in 'payroll.csv' and store it in a df (0.25 p).\n",
    "myfile = \"C:/Users/msabo/iCloudDrive/Desktop/Binghamton/7. Fall 2024/MIS-525/payroll.csv\"\n",
    "df = pd.read_csv(myfile)"
   ]
  },
  {
   "cell_type": "code",
   "execution_count": 27,
   "metadata": {},
   "outputs": [
    {
     "data": {
      "text/html": [
       "<div>\n",
       "<style scoped>\n",
       "    .dataframe tbody tr th:only-of-type {\n",
       "        vertical-align: middle;\n",
       "    }\n",
       "\n",
       "    .dataframe tbody tr th {\n",
       "        vertical-align: top;\n",
       "    }\n",
       "\n",
       "    .dataframe thead th {\n",
       "        text-align: right;\n",
       "    }\n",
       "</style>\n",
       "<table border=\"1\" class=\"dataframe\">\n",
       "  <thead>\n",
       "    <tr style=\"text-align: right;\">\n",
       "      <th></th>\n",
       "      <th>ID</th>\n",
       "      <th>Name</th>\n",
       "      <th>Title</th>\n",
       "      <th>Wage</th>\n",
       "      <th>Bonus</th>\n",
       "      <th>Benefits</th>\n",
       "      <th>Year</th>\n",
       "      <th>State</th>\n",
       "    </tr>\n",
       "  </thead>\n",
       "  <tbody>\n",
       "    <tr>\n",
       "      <th>0</th>\n",
       "      <td>68595</td>\n",
       "      <td>James A Mullan</td>\n",
       "      <td>Deputy Sheriff</td>\n",
       "      <td>5260.50</td>\n",
       "      <td>14604.82</td>\n",
       "      <td>1883.52</td>\n",
       "      <td>2019</td>\n",
       "      <td>AZ</td>\n",
       "    </tr>\n",
       "    <tr>\n",
       "      <th>1</th>\n",
       "      <td>21249</td>\n",
       "      <td>ANTHONY RIVERA</td>\n",
       "      <td>LIEUTENANT, FIRE DEPARTMENT</td>\n",
       "      <td>123105.02</td>\n",
       "      <td>14801.03</td>\n",
       "      <td>NaN</td>\n",
       "      <td>2017</td>\n",
       "      <td>FL</td>\n",
       "    </tr>\n",
       "    <tr>\n",
       "      <th>2</th>\n",
       "      <td>77733</td>\n",
       "      <td>Monique J Johnson</td>\n",
       "      <td>Deputy Sheriff</td>\n",
       "      <td>91370.03</td>\n",
       "      <td>2415.19</td>\n",
       "      <td>31364.48</td>\n",
       "      <td>2019</td>\n",
       "      <td>IL</td>\n",
       "    </tr>\n",
       "    <tr>\n",
       "      <th>3</th>\n",
       "      <td>94889</td>\n",
       "      <td>Peter G Silva</td>\n",
       "      <td>Park Patrol Officer</td>\n",
       "      <td>61036.02</td>\n",
       "      <td>778.20</td>\n",
       "      <td>27370.90</td>\n",
       "      <td>2020</td>\n",
       "      <td>PA</td>\n",
       "    </tr>\n",
       "    <tr>\n",
       "      <th>4</th>\n",
       "      <td>70725</td>\n",
       "      <td>DAVID SANDS</td>\n",
       "      <td>POLICE OFFICER II</td>\n",
       "      <td>105346.24</td>\n",
       "      <td>11923.74</td>\n",
       "      <td>NaN</td>\n",
       "      <td>2017</td>\n",
       "      <td>WV</td>\n",
       "    </tr>\n",
       "  </tbody>\n",
       "</table>\n",
       "</div>"
      ],
      "text/plain": [
       "      ID               Name                        Title       Wage     Bonus  \\\n",
       "0  68595     James A Mullan               Deputy Sheriff    5260.50  14604.82   \n",
       "1  21249     ANTHONY RIVERA  LIEUTENANT, FIRE DEPARTMENT  123105.02  14801.03   \n",
       "2  77733  Monique J Johnson               Deputy Sheriff   91370.03   2415.19   \n",
       "3  94889      Peter G Silva          Park Patrol Officer   61036.02    778.20   \n",
       "4  70725        DAVID SANDS            POLICE OFFICER II  105346.24  11923.74   \n",
       "\n",
       "   Benefits  Year State  \n",
       "0   1883.52  2019    AZ  \n",
       "1       NaN  2017    FL  \n",
       "2  31364.48  2019    IL  \n",
       "3  27370.90  2020    PA  \n",
       "4       NaN  2017    WV  "
      ]
     },
     "execution_count": 27,
     "metadata": {},
     "output_type": "execute_result"
    }
   ],
   "source": [
    "#Q3: Check the head of the df (0.25 p).\n",
    "df.head()"
   ]
  },
  {
   "cell_type": "code",
   "execution_count": 29,
   "metadata": {},
   "outputs": [
    {
     "data": {
      "text/plain": [
       "(148550, 8)"
      ]
     },
     "execution_count": 29,
     "metadata": {},
     "output_type": "execute_result"
    }
   ],
   "source": [
    "#Q4: Check the number of rows and columns (0.25 p).\n",
    "df.shape"
   ]
  },
  {
   "cell_type": "code",
   "execution_count": 31,
   "metadata": {},
   "outputs": [
    {
     "data": {
      "text/html": [
       "<div>\n",
       "<style scoped>\n",
       "    .dataframe tbody tr th:only-of-type {\n",
       "        vertical-align: middle;\n",
       "    }\n",
       "\n",
       "    .dataframe tbody tr th {\n",
       "        vertical-align: top;\n",
       "    }\n",
       "\n",
       "    .dataframe thead th {\n",
       "        text-align: right;\n",
       "    }\n",
       "</style>\n",
       "<table border=\"1\" class=\"dataframe\">\n",
       "  <thead>\n",
       "    <tr style=\"text-align: right;\">\n",
       "      <th></th>\n",
       "      <th>ID</th>\n",
       "      <th>Name</th>\n",
       "      <th>Title</th>\n",
       "      <th>Wage</th>\n",
       "      <th>Bonus</th>\n",
       "      <th>Benefits</th>\n",
       "      <th>Year</th>\n",
       "      <th>State</th>\n",
       "    </tr>\n",
       "  </thead>\n",
       "  <tbody>\n",
       "    <tr>\n",
       "      <th>85318</th>\n",
       "      <td>1</td>\n",
       "      <td>Bunyan Johnson</td>\n",
       "      <td>Sr District Atty Investigator</td>\n",
       "      <td>104965.01</td>\n",
       "      <td>6298.69</td>\n",
       "      <td>36969.38</td>\n",
       "      <td>2018</td>\n",
       "      <td>OR</td>\n",
       "    </tr>\n",
       "    <tr>\n",
       "      <th>135997</th>\n",
       "      <td>2</td>\n",
       "      <td>Gary Ouyang</td>\n",
       "      <td>Sales Clerk</td>\n",
       "      <td>68291.00</td>\n",
       "      <td>7790.06</td>\n",
       "      <td>41596.95</td>\n",
       "      <td>2018</td>\n",
       "      <td>CT</td>\n",
       "    </tr>\n",
       "    <tr>\n",
       "      <th>133622</th>\n",
       "      <td>3</td>\n",
       "      <td>MANOHAR RAJU</td>\n",
       "      <td>ATTORNEY (CIVIL/CRIMINAL)</td>\n",
       "      <td>146726.01</td>\n",
       "      <td>0.00</td>\n",
       "      <td>NaN</td>\n",
       "      <td>2017</td>\n",
       "      <td>WI</td>\n",
       "    </tr>\n",
       "    <tr>\n",
       "      <th>92852</th>\n",
       "      <td>4</td>\n",
       "      <td>Sandra E Marin</td>\n",
       "      <td>Senior Clerk</td>\n",
       "      <td>63577.47</td>\n",
       "      <td>1280.00</td>\n",
       "      <td>26418.28</td>\n",
       "      <td>2019</td>\n",
       "      <td>LA</td>\n",
       "    </tr>\n",
       "    <tr>\n",
       "      <th>130349</th>\n",
       "      <td>5</td>\n",
       "      <td>Kevin Smith</td>\n",
       "      <td>Sales Clerk</td>\n",
       "      <td>718.22</td>\n",
       "      <td>3.59</td>\n",
       "      <td>243.48</td>\n",
       "      <td>2018</td>\n",
       "      <td>NJ</td>\n",
       "    </tr>\n",
       "    <tr>\n",
       "      <th>...</th>\n",
       "      <td>...</td>\n",
       "      <td>...</td>\n",
       "      <td>...</td>\n",
       "      <td>...</td>\n",
       "      <td>...</td>\n",
       "      <td>...</td>\n",
       "      <td>...</td>\n",
       "      <td>...</td>\n",
       "    </tr>\n",
       "    <tr>\n",
       "      <th>142306</th>\n",
       "      <td>148546</td>\n",
       "      <td>Maria D Green</td>\n",
       "      <td>Recreation Leader</td>\n",
       "      <td>13263.75</td>\n",
       "      <td>8.10</td>\n",
       "      <td>132.72</td>\n",
       "      <td>2019</td>\n",
       "      <td>TX</td>\n",
       "    </tr>\n",
       "    <tr>\n",
       "      <th>67932</th>\n",
       "      <td>148547</td>\n",
       "      <td>Renato Gutierrez</td>\n",
       "      <td>Sales Clerk</td>\n",
       "      <td>65174.41</td>\n",
       "      <td>1736.67</td>\n",
       "      <td>34215.82</td>\n",
       "      <td>2020</td>\n",
       "      <td>AR</td>\n",
       "    </tr>\n",
       "    <tr>\n",
       "      <th>130871</th>\n",
       "      <td>148548</td>\n",
       "      <td>Mohammed Saifullah</td>\n",
       "      <td>IS Programmer Analyst-Senior</td>\n",
       "      <td>6374.80</td>\n",
       "      <td>0.00</td>\n",
       "      <td>2382.62</td>\n",
       "      <td>2020</td>\n",
       "      <td>GA</td>\n",
       "    </tr>\n",
       "    <tr>\n",
       "      <th>12216</th>\n",
       "      <td>148549</td>\n",
       "      <td>Mark H Keville</td>\n",
       "      <td>Carpenter</td>\n",
       "      <td>62517.44</td>\n",
       "      <td>0.00</td>\n",
       "      <td>22238.61</td>\n",
       "      <td>2019</td>\n",
       "      <td>MD</td>\n",
       "    </tr>\n",
       "    <tr>\n",
       "      <th>109245</th>\n",
       "      <td>148550</td>\n",
       "      <td>TONYA THOMPSON</td>\n",
       "      <td>PRINCIPAL CLERK</td>\n",
       "      <td>63538.43</td>\n",
       "      <td>867.79</td>\n",
       "      <td>NaN</td>\n",
       "      <td>2017</td>\n",
       "      <td>NY</td>\n",
       "    </tr>\n",
       "  </tbody>\n",
       "</table>\n",
       "<p>148550 rows × 8 columns</p>\n",
       "</div>"
      ],
      "text/plain": [
       "            ID                Name                          Title       Wage  \\\n",
       "85318        1      Bunyan Johnson  Sr District Atty Investigator  104965.01   \n",
       "135997       2         Gary Ouyang                    Sales Clerk   68291.00   \n",
       "133622       3        MANOHAR RAJU      ATTORNEY (CIVIL/CRIMINAL)  146726.01   \n",
       "92852        4      Sandra E Marin                   Senior Clerk   63577.47   \n",
       "130349       5         Kevin Smith                    Sales Clerk     718.22   \n",
       "...        ...                 ...                            ...        ...   \n",
       "142306  148546       Maria D Green              Recreation Leader   13263.75   \n",
       "67932   148547    Renato Gutierrez                    Sales Clerk   65174.41   \n",
       "130871  148548  Mohammed Saifullah   IS Programmer Analyst-Senior    6374.80   \n",
       "12216   148549      Mark H Keville                      Carpenter   62517.44   \n",
       "109245  148550      TONYA THOMPSON                PRINCIPAL CLERK   63538.43   \n",
       "\n",
       "          Bonus  Benefits  Year State  \n",
       "85318   6298.69  36969.38  2018    OR  \n",
       "135997  7790.06  41596.95  2018    CT  \n",
       "133622     0.00       NaN  2017    WI  \n",
       "92852   1280.00  26418.28  2019    LA  \n",
       "130349     3.59    243.48  2018    NJ  \n",
       "...         ...       ...   ...   ...  \n",
       "142306     8.10    132.72  2019    TX  \n",
       "67932   1736.67  34215.82  2020    AR  \n",
       "130871     0.00   2382.62  2020    GA  \n",
       "12216      0.00  22238.61  2019    MD  \n",
       "109245   867.79       NaN  2017    NY  \n",
       "\n",
       "[148550 rows x 8 columns]"
      ]
     },
     "execution_count": 31,
     "metadata": {},
     "output_type": "execute_result"
    }
   ],
   "source": [
    "#Q5: Sort the df by 'ID' and confirm the result of the previous question (0.25 p).\n",
    "df.sort_values(\"ID\")"
   ]
  },
  {
   "cell_type": "code",
   "execution_count": 33,
   "metadata": {},
   "outputs": [
    {
     "data": {
      "text/plain": [
       "ID            int64\n",
       "Name         object\n",
       "Title        object\n",
       "Wage        float64\n",
       "Bonus       float64\n",
       "Benefits    float64\n",
       "Year          int64\n",
       "State        object\n",
       "dtype: object"
      ]
     },
     "execution_count": 33,
     "metadata": {},
     "output_type": "execute_result"
    }
   ],
   "source": [
    "#Q6: Check the data type of each column (0.25 p).\n",
    "df.dtypes"
   ]
  },
  {
   "cell_type": "code",
   "execution_count": 35,
   "metadata": {},
   "outputs": [],
   "source": [
    "#Q7: Create a new column 'TotalPay' which will be the sum of wage, bonus, and benefits (0.5 p).\n",
    "df[\"TotalPay\"] = df[\"Wage\"] + df[\"Bonus\"] + df[\"Benefits\"]"
   ]
  },
  {
   "cell_type": "code",
   "execution_count": 37,
   "metadata": {},
   "outputs": [
    {
     "data": {
      "text/html": [
       "<div>\n",
       "<style scoped>\n",
       "    .dataframe tbody tr th:only-of-type {\n",
       "        vertical-align: middle;\n",
       "    }\n",
       "\n",
       "    .dataframe tbody tr th {\n",
       "        vertical-align: top;\n",
       "    }\n",
       "\n",
       "    .dataframe thead th {\n",
       "        text-align: right;\n",
       "    }\n",
       "</style>\n",
       "<table border=\"1\" class=\"dataframe\">\n",
       "  <thead>\n",
       "    <tr style=\"text-align: right;\">\n",
       "      <th></th>\n",
       "      <th>ID</th>\n",
       "      <th>Name</th>\n",
       "      <th>Title</th>\n",
       "      <th>Wage</th>\n",
       "      <th>Bonus</th>\n",
       "      <th>Benefits</th>\n",
       "      <th>Year</th>\n",
       "      <th>State</th>\n",
       "      <th>TotalPay</th>\n",
       "    </tr>\n",
       "  </thead>\n",
       "  <tbody>\n",
       "    <tr>\n",
       "      <th>0</th>\n",
       "      <td>68595</td>\n",
       "      <td>James A Mullan</td>\n",
       "      <td>Deputy Sheriff</td>\n",
       "      <td>5260.50</td>\n",
       "      <td>14604.82</td>\n",
       "      <td>1883.52</td>\n",
       "      <td>2019</td>\n",
       "      <td>AZ</td>\n",
       "      <td>21748.84</td>\n",
       "    </tr>\n",
       "    <tr>\n",
       "      <th>1</th>\n",
       "      <td>21249</td>\n",
       "      <td>ANTHONY RIVERA</td>\n",
       "      <td>LIEUTENANT, FIRE DEPARTMENT</td>\n",
       "      <td>123105.02</td>\n",
       "      <td>14801.03</td>\n",
       "      <td>NaN</td>\n",
       "      <td>2017</td>\n",
       "      <td>FL</td>\n",
       "      <td>NaN</td>\n",
       "    </tr>\n",
       "    <tr>\n",
       "      <th>2</th>\n",
       "      <td>77733</td>\n",
       "      <td>Monique J Johnson</td>\n",
       "      <td>Deputy Sheriff</td>\n",
       "      <td>91370.03</td>\n",
       "      <td>2415.19</td>\n",
       "      <td>31364.48</td>\n",
       "      <td>2019</td>\n",
       "      <td>IL</td>\n",
       "      <td>125149.70</td>\n",
       "    </tr>\n",
       "    <tr>\n",
       "      <th>3</th>\n",
       "      <td>94889</td>\n",
       "      <td>Peter G Silva</td>\n",
       "      <td>Park Patrol Officer</td>\n",
       "      <td>61036.02</td>\n",
       "      <td>778.20</td>\n",
       "      <td>27370.90</td>\n",
       "      <td>2020</td>\n",
       "      <td>PA</td>\n",
       "      <td>89185.12</td>\n",
       "    </tr>\n",
       "    <tr>\n",
       "      <th>4</th>\n",
       "      <td>70725</td>\n",
       "      <td>DAVID SANDS</td>\n",
       "      <td>POLICE OFFICER II</td>\n",
       "      <td>105346.24</td>\n",
       "      <td>11923.74</td>\n",
       "      <td>NaN</td>\n",
       "      <td>2017</td>\n",
       "      <td>WV</td>\n",
       "      <td>NaN</td>\n",
       "    </tr>\n",
       "    <tr>\n",
       "      <th>...</th>\n",
       "      <td>...</td>\n",
       "      <td>...</td>\n",
       "      <td>...</td>\n",
       "      <td>...</td>\n",
       "      <td>...</td>\n",
       "      <td>...</td>\n",
       "      <td>...</td>\n",
       "      <td>...</td>\n",
       "      <td>...</td>\n",
       "    </tr>\n",
       "    <tr>\n",
       "      <th>148545</th>\n",
       "      <td>84175</td>\n",
       "      <td>Sonji Walker</td>\n",
       "      <td>Counselor, Family Court Svc</td>\n",
       "      <td>98790.07</td>\n",
       "      <td>5515.46</td>\n",
       "      <td>40564.44</td>\n",
       "      <td>2018</td>\n",
       "      <td>MT</td>\n",
       "      <td>144869.97</td>\n",
       "    </tr>\n",
       "    <tr>\n",
       "      <th>148546</th>\n",
       "      <td>37801</td>\n",
       "      <td>Louise M Rainey</td>\n",
       "      <td>Sctry, Human Svcs. Commission</td>\n",
       "      <td>37703.20</td>\n",
       "      <td>0.00</td>\n",
       "      <td>377.04</td>\n",
       "      <td>2020</td>\n",
       "      <td>GA</td>\n",
       "      <td>38080.24</td>\n",
       "    </tr>\n",
       "    <tr>\n",
       "      <th>148547</th>\n",
       "      <td>6006</td>\n",
       "      <td>GEORGE COUVSON</td>\n",
       "      <td>SENIOR TRANSIT TRAFFIC CHECKER</td>\n",
       "      <td>66289.24</td>\n",
       "      <td>3539.71</td>\n",
       "      <td>NaN</td>\n",
       "      <td>2017</td>\n",
       "      <td>DE</td>\n",
       "      <td>NaN</td>\n",
       "    </tr>\n",
       "    <tr>\n",
       "      <th>148548</th>\n",
       "      <td>56920</td>\n",
       "      <td>DEMASTER SURVINE</td>\n",
       "      <td>Sales Clerk</td>\n",
       "      <td>66288.35</td>\n",
       "      <td>4176.06</td>\n",
       "      <td>NaN</td>\n",
       "      <td>2017</td>\n",
       "      <td>NY</td>\n",
       "      <td>NaN</td>\n",
       "    </tr>\n",
       "    <tr>\n",
       "      <th>148549</th>\n",
       "      <td>48242</td>\n",
       "      <td>Quincy Stamper</td>\n",
       "      <td>Recreation Leader</td>\n",
       "      <td>13749.82</td>\n",
       "      <td>183.47</td>\n",
       "      <td>1197.74</td>\n",
       "      <td>2018</td>\n",
       "      <td>AK</td>\n",
       "      <td>15131.03</td>\n",
       "    </tr>\n",
       "  </tbody>\n",
       "</table>\n",
       "<p>148550 rows × 9 columns</p>\n",
       "</div>"
      ],
      "text/plain": [
       "           ID               Name                           Title       Wage  \\\n",
       "0       68595     James A Mullan                  Deputy Sheriff    5260.50   \n",
       "1       21249     ANTHONY RIVERA     LIEUTENANT, FIRE DEPARTMENT  123105.02   \n",
       "2       77733  Monique J Johnson                  Deputy Sheriff   91370.03   \n",
       "3       94889      Peter G Silva             Park Patrol Officer   61036.02   \n",
       "4       70725        DAVID SANDS               POLICE OFFICER II  105346.24   \n",
       "...       ...                ...                             ...        ...   \n",
       "148545  84175       Sonji Walker     Counselor, Family Court Svc   98790.07   \n",
       "148546  37801    Louise M Rainey   Sctry, Human Svcs. Commission   37703.20   \n",
       "148547   6006     GEORGE COUVSON  SENIOR TRANSIT TRAFFIC CHECKER   66289.24   \n",
       "148548  56920   DEMASTER SURVINE                     Sales Clerk   66288.35   \n",
       "148549  48242     Quincy Stamper               Recreation Leader   13749.82   \n",
       "\n",
       "           Bonus  Benefits  Year State   TotalPay  \n",
       "0       14604.82   1883.52  2019    AZ   21748.84  \n",
       "1       14801.03       NaN  2017    FL        NaN  \n",
       "2        2415.19  31364.48  2019    IL  125149.70  \n",
       "3         778.20  27370.90  2020    PA   89185.12  \n",
       "4       11923.74       NaN  2017    WV        NaN  \n",
       "...          ...       ...   ...   ...        ...  \n",
       "148545   5515.46  40564.44  2018    MT  144869.97  \n",
       "148546      0.00    377.04  2020    GA   38080.24  \n",
       "148547   3539.71       NaN  2017    DE        NaN  \n",
       "148548   4176.06       NaN  2017    NY        NaN  \n",
       "148549    183.47   1197.74  2018    AK   15131.03  \n",
       "\n",
       "[148550 rows x 9 columns]"
      ]
     },
     "execution_count": 37,
     "metadata": {},
     "output_type": "execute_result"
    }
   ],
   "source": [
    "#Q8: Check the updated df (0.25 p).\n",
    "df"
   ]
  },
  {
   "cell_type": "code",
   "execution_count": 39,
   "metadata": {},
   "outputs": [
    {
     "data": {
      "text/plain": [
       "-159.45"
      ]
     },
     "execution_count": 39,
     "metadata": {},
     "output_type": "execute_result"
    }
   ],
   "source": [
    "#Q9: Find out the lowest amount of 'TotalPay' in the dataset (0.25 p).\n",
    "min_pay = df[\"TotalPay\"].min()\n",
    "min_pay"
   ]
  },
  {
   "cell_type": "code",
   "execution_count": 43,
   "metadata": {},
   "outputs": [
    {
     "data": {
      "text/plain": [
       "510732.68"
      ]
     },
     "execution_count": 43,
     "metadata": {},
     "output_type": "execute_result"
    }
   ],
   "source": [
    "#Q10: Find out the highest amount of 'TotalPay' in the dataset (0.25 p).\n",
    "max_pay = df[\"TotalPay\"].max()\n",
    "max_pay"
   ]
  },
  {
   "cell_type": "code",
   "execution_count": 45,
   "metadata": {},
   "outputs": [
    {
     "data": {
      "text/plain": [
       "95940.39992262077"
      ]
     },
     "execution_count": 45,
     "metadata": {},
     "output_type": "execute_result"
    }
   ],
   "source": [
    "#Q11: Calculate the average 'TotalPay' in the dataset (0.25 p).\n",
    "avg_pay = df[\"TotalPay\"].mean()\n",
    "avg_pay"
   ]
  },
  {
   "cell_type": "code",
   "execution_count": 47,
   "metadata": {},
   "outputs": [
    {
     "data": {
      "text/plain": [
       "58742"
      ]
     },
     "execution_count": 47,
     "metadata": {},
     "output_type": "execute_result"
    }
   ],
   "source": [
    "#Q12: Find out how many employees make more money in total than the average (0.5 p).\n",
    "above_avg_count = 0\n",
    "for i in df[\"TotalPay\"]:\n",
    "    if i > avg_pay:\n",
    "        above_avg_count += 1\n",
    "\n",
    "above_avg_count"
   ]
  },
  {
   "cell_type": "code",
   "execution_count": 51,
   "metadata": {},
   "outputs": [
    {
     "data": {
      "text/html": [
       "<div>\n",
       "<style scoped>\n",
       "    .dataframe tbody tr th:only-of-type {\n",
       "        vertical-align: middle;\n",
       "    }\n",
       "\n",
       "    .dataframe tbody tr th {\n",
       "        vertical-align: top;\n",
       "    }\n",
       "\n",
       "    .dataframe thead th {\n",
       "        text-align: right;\n",
       "    }\n",
       "</style>\n",
       "<table border=\"1\" class=\"dataframe\">\n",
       "  <thead>\n",
       "    <tr style=\"text-align: right;\">\n",
       "      <th></th>\n",
       "      <th>ID</th>\n",
       "      <th>Title</th>\n",
       "      <th>State</th>\n",
       "    </tr>\n",
       "  </thead>\n",
       "  <tbody>\n",
       "    <tr>\n",
       "      <th>50554</th>\n",
       "      <td>115516</td>\n",
       "      <td>Electrician</td>\n",
       "      <td>NY</td>\n",
       "    </tr>\n",
       "  </tbody>\n",
       "</table>\n",
       "</div>"
      ],
      "text/plain": [
       "           ID        Title State\n",
       "50554  115516  Electrician    NY"
      ]
     },
     "execution_count": 51,
     "metadata": {},
     "output_type": "execute_result"
    }
   ],
   "source": [
    "#Q13: Find out the id, title, and state of 'Michael J Proctor' (0.5 p).\n",
    "mjp = df[[\"ID\", \"Title\", \"State\"]][df[\"Name\"] == \"Michael J Proctor\"]\n",
    "mjp"
   ]
  },
  {
   "cell_type": "code",
   "execution_count": 55,
   "metadata": {},
   "outputs": [
    {
     "data": {
      "text/plain": [
       "50554    38348.15\n",
       "Name: TotalPay, dtype: float64"
      ]
     },
     "execution_count": 55,
     "metadata": {},
     "output_type": "execute_result"
    }
   ],
   "source": [
    "#Q14: Find out how much 'Michael J Proctor' makes in total (0.5 p).\n",
    "mjp_pay = df[\"TotalPay\"][df[\"Name\"] == \"Michael J Proctor\"]\n",
    "mjp_pay"
   ]
  },
  {
   "cell_type": "code",
   "execution_count": 73,
   "metadata": {},
   "outputs": [
    {
     "data": {
      "text/html": [
       "<div>\n",
       "<style scoped>\n",
       "    .dataframe tbody tr th:only-of-type {\n",
       "        vertical-align: middle;\n",
       "    }\n",
       "\n",
       "    .dataframe tbody tr th {\n",
       "        vertical-align: top;\n",
       "    }\n",
       "\n",
       "    .dataframe thead th {\n",
       "        text-align: right;\n",
       "    }\n",
       "</style>\n",
       "<table border=\"1\" class=\"dataframe\">\n",
       "  <thead>\n",
       "    <tr style=\"text-align: right;\">\n",
       "      <th></th>\n",
       "      <th>ID</th>\n",
       "      <th>Name</th>\n",
       "      <th>Title</th>\n",
       "      <th>Wage</th>\n",
       "      <th>Bonus</th>\n",
       "      <th>Benefits</th>\n",
       "      <th>Year</th>\n",
       "      <th>State</th>\n",
       "      <th>TotalPay</th>\n",
       "    </tr>\n",
       "  </thead>\n",
       "  <tbody>\n",
       "    <tr>\n",
       "      <th>98226</th>\n",
       "      <td>86072</td>\n",
       "      <td>Gregory P Suhr</td>\n",
       "      <td>Chief of Police</td>\n",
       "      <td>319275.01</td>\n",
       "      <td>20007.06</td>\n",
       "      <td>86533.21</td>\n",
       "      <td>2019</td>\n",
       "      <td>FL</td>\n",
       "      <td>425815.28</td>\n",
       "    </tr>\n",
       "  </tbody>\n",
       "</table>\n",
       "</div>"
      ],
      "text/plain": [
       "          ID            Name            Title       Wage     Bonus  Benefits  \\\n",
       "98226  86072  Gregory P Suhr  Chief of Police  319275.01  20007.06  86533.21   \n",
       "\n",
       "       Year State   TotalPay  \n",
       "98226  2019    FL  425815.28  "
      ]
     },
     "execution_count": 73,
     "metadata": {},
     "output_type": "execute_result"
    }
   ],
   "source": [
    "#Q15: Find out the record of the person with the highest 'Wage' (0.5 p).\n",
    "df.loc[[df[\"Wage\"].idxmax()]]"
   ]
  },
  {
   "cell_type": "code",
   "execution_count": 87,
   "metadata": {},
   "outputs": [
    {
     "data": {
      "text/html": [
       "<div>\n",
       "<style scoped>\n",
       "    .dataframe tbody tr th:only-of-type {\n",
       "        vertical-align: middle;\n",
       "    }\n",
       "\n",
       "    .dataframe tbody tr th {\n",
       "        vertical-align: top;\n",
       "    }\n",
       "\n",
       "    .dataframe thead th {\n",
       "        text-align: right;\n",
       "    }\n",
       "</style>\n",
       "<table border=\"1\" class=\"dataframe\">\n",
       "  <thead>\n",
       "    <tr style=\"text-align: right;\">\n",
       "      <th></th>\n",
       "      <th>ID</th>\n",
       "    </tr>\n",
       "    <tr>\n",
       "      <th>Year</th>\n",
       "      <th></th>\n",
       "    </tr>\n",
       "  </thead>\n",
       "  <tbody>\n",
       "    <tr>\n",
       "      <th>2017</th>\n",
       "      <td>36144</td>\n",
       "    </tr>\n",
       "    <tr>\n",
       "      <th>2018</th>\n",
       "      <td>36748</td>\n",
       "    </tr>\n",
       "    <tr>\n",
       "      <th>2019</th>\n",
       "      <td>37585</td>\n",
       "    </tr>\n",
       "    <tr>\n",
       "      <th>2020</th>\n",
       "      <td>38073</td>\n",
       "    </tr>\n",
       "  </tbody>\n",
       "</table>\n",
       "</div>"
      ],
      "text/plain": [
       "         ID\n",
       "Year       \n",
       "2017  36144\n",
       "2018  36748\n",
       "2019  37585\n",
       "2020  38073"
      ]
     },
     "execution_count": 87,
     "metadata": {},
     "output_type": "execute_result"
    }
   ],
   "source": [
    "#Q16: Find out the number of employees (IDs) per year (0.5 p).\n",
    "df[[\"Year\", \"ID\"]].groupby(\"Year\").count()"
   ]
  },
  {
   "cell_type": "code",
   "execution_count": 89,
   "metadata": {},
   "outputs": [
    {
     "data": {
      "text/html": [
       "<div>\n",
       "<style scoped>\n",
       "    .dataframe tbody tr th:only-of-type {\n",
       "        vertical-align: middle;\n",
       "    }\n",
       "\n",
       "    .dataframe tbody tr th {\n",
       "        vertical-align: top;\n",
       "    }\n",
       "\n",
       "    .dataframe thead th {\n",
       "        text-align: right;\n",
       "    }\n",
       "</style>\n",
       "<table border=\"1\" class=\"dataframe\">\n",
       "  <thead>\n",
       "    <tr style=\"text-align: right;\">\n",
       "      <th></th>\n",
       "      <th>ID</th>\n",
       "    </tr>\n",
       "    <tr>\n",
       "      <th>Year</th>\n",
       "      <th></th>\n",
       "    </tr>\n",
       "  </thead>\n",
       "  <tbody>\n",
       "    <tr>\n",
       "      <th>2017</th>\n",
       "      <td>2124</td>\n",
       "    </tr>\n",
       "    <tr>\n",
       "      <th>2018</th>\n",
       "      <td>2363</td>\n",
       "    </tr>\n",
       "    <tr>\n",
       "      <th>2019</th>\n",
       "      <td>2351</td>\n",
       "    </tr>\n",
       "    <tr>\n",
       "      <th>2020</th>\n",
       "      <td>2449</td>\n",
       "    </tr>\n",
       "  </tbody>\n",
       "</table>\n",
       "</div>"
      ],
      "text/plain": [
       "        ID\n",
       "Year      \n",
       "2017  2124\n",
       "2018  2363\n",
       "2019  2351\n",
       "2020  2449"
      ]
     },
     "execution_count": 89,
     "metadata": {},
     "output_type": "execute_result"
    }
   ],
   "source": [
    "#Q17: Find out the number of employees (IDs) in NY per year (0.5 p).\n",
    "df[df[\"State\"] == \"NY\"][[\"Year\", \"ID\"]].groupby(\"Year\").count()"
   ]
  },
  {
   "cell_type": "code",
   "execution_count": 109,
   "metadata": {},
   "outputs": [
    {
     "data": {
      "text/html": [
       "<div>\n",
       "<style scoped>\n",
       "    .dataframe tbody tr th:only-of-type {\n",
       "        vertical-align: middle;\n",
       "    }\n",
       "\n",
       "    .dataframe tbody tr th {\n",
       "        vertical-align: top;\n",
       "    }\n",
       "\n",
       "    .dataframe thead th {\n",
       "        text-align: right;\n",
       "    }\n",
       "</style>\n",
       "<table border=\"1\" class=\"dataframe\">\n",
       "  <thead>\n",
       "    <tr style=\"text-align: right;\">\n",
       "      <th></th>\n",
       "      <th>TotalPay</th>\n",
       "    </tr>\n",
       "    <tr>\n",
       "      <th>Year</th>\n",
       "      <th></th>\n",
       "    </tr>\n",
       "  </thead>\n",
       "  <tbody>\n",
       "    <tr>\n",
       "      <th>2017</th>\n",
       "      <td>93612.806370</td>\n",
       "    </tr>\n",
       "    <tr>\n",
       "      <th>2018</th>\n",
       "      <td>95527.975619</td>\n",
       "    </tr>\n",
       "    <tr>\n",
       "      <th>2019</th>\n",
       "      <td>97562.000144</td>\n",
       "    </tr>\n",
       "    <tr>\n",
       "      <th>2020</th>\n",
       "      <td>94928.488456</td>\n",
       "    </tr>\n",
       "  </tbody>\n",
       "</table>\n",
       "</div>"
      ],
      "text/plain": [
       "          TotalPay\n",
       "Year              \n",
       "2017  93612.806370\n",
       "2018  95527.975619\n",
       "2019  97562.000144\n",
       "2020  94928.488456"
      ]
     },
     "execution_count": 109,
     "metadata": {},
     "output_type": "execute_result"
    }
   ],
   "source": [
    "#Q18: Find out the average 'TotalPay' of all employees per year (0.5 p).\n",
    "df[[\"Year\", \"TotalPay\"]].groupby(\"Year\").mean()"
   ]
  },
  {
   "cell_type": "code",
   "execution_count": 97,
   "metadata": {},
   "outputs": [
    {
     "data": {
      "text/html": [
       "<div>\n",
       "<style scoped>\n",
       "    .dataframe tbody tr th:only-of-type {\n",
       "        vertical-align: middle;\n",
       "    }\n",
       "\n",
       "    .dataframe tbody tr th {\n",
       "        vertical-align: top;\n",
       "    }\n",
       "\n",
       "    .dataframe thead th {\n",
       "        text-align: right;\n",
       "    }\n",
       "</style>\n",
       "<table border=\"1\" class=\"dataframe\">\n",
       "  <thead>\n",
       "    <tr style=\"text-align: right;\">\n",
       "      <th></th>\n",
       "      <th>TotalPay</th>\n",
       "    </tr>\n",
       "    <tr>\n",
       "      <th>Year</th>\n",
       "      <th></th>\n",
       "    </tr>\n",
       "  </thead>\n",
       "  <tbody>\n",
       "    <tr>\n",
       "      <th>2017</th>\n",
       "      <td>91147.641182</td>\n",
       "    </tr>\n",
       "    <tr>\n",
       "      <th>2018</th>\n",
       "      <td>95904.967616</td>\n",
       "    </tr>\n",
       "    <tr>\n",
       "      <th>2019</th>\n",
       "      <td>97806.752646</td>\n",
       "    </tr>\n",
       "    <tr>\n",
       "      <th>2020</th>\n",
       "      <td>95400.235250</td>\n",
       "    </tr>\n",
       "  </tbody>\n",
       "</table>\n",
       "</div>"
      ],
      "text/plain": [
       "          TotalPay\n",
       "Year              \n",
       "2017  91147.641182\n",
       "2018  95904.967616\n",
       "2019  97806.752646\n",
       "2020  95400.235250"
      ]
     },
     "execution_count": 97,
     "metadata": {},
     "output_type": "execute_result"
    }
   ],
   "source": [
    "#Q19: Find out the average 'TotalPay' of employees who work either in NY or NJ per year (0.5 p).\n",
    "df[(df[\"State\"] == \"NY\") | (df[\"State\"] == \"NJ\")].groupby(\"Year\")[[\"TotalPay\"]].mean()"
   ]
  },
  {
   "cell_type": "code",
   "execution_count": 111,
   "metadata": {},
   "outputs": [
    {
     "data": {
      "text/plain": [
       "ID              0\n",
       "Name            0\n",
       "Title           0\n",
       "Wage          605\n",
       "Bonus           0\n",
       "Benefits    33444\n",
       "Year            0\n",
       "State           0\n",
       "TotalPay    34049\n",
       "dtype: int64"
      ]
     },
     "execution_count": 111,
     "metadata": {},
     "output_type": "execute_result"
    }
   ],
   "source": [
    "#Q20: Count the number of missing values in each column (0.5 p).\n",
    "df.isnull().sum()"
   ]
  },
  {
   "cell_type": "code",
   "execution_count": 113,
   "metadata": {},
   "outputs": [
    {
     "data": {
      "text/plain": [
       "0           5260.50\n",
       "1         123105.02\n",
       "2          91370.03\n",
       "3          61036.02\n",
       "4         105346.24\n",
       "            ...    \n",
       "148545     98790.07\n",
       "148546     37703.20\n",
       "148547     66289.24\n",
       "148548     66288.35\n",
       "148549     13749.82\n",
       "Name: Wage, Length: 148550, dtype: float64"
      ]
     },
     "execution_count": 113,
     "metadata": {},
     "output_type": "execute_result"
    }
   ],
   "source": [
    "#Q21: Fill the missing values in 'Wage' with its average (0.5 p).\n",
    "df[\"Wage\"].fillna(df[\"Wage\"].mean())"
   ]
  },
  {
   "cell_type": "code",
   "execution_count": 127,
   "metadata": {},
   "outputs": [
    {
     "data": {
      "text/html": [
       "<div>\n",
       "<style scoped>\n",
       "    .dataframe tbody tr th:only-of-type {\n",
       "        vertical-align: middle;\n",
       "    }\n",
       "\n",
       "    .dataframe tbody tr th {\n",
       "        vertical-align: top;\n",
       "    }\n",
       "\n",
       "    .dataframe thead th {\n",
       "        text-align: right;\n",
       "    }\n",
       "</style>\n",
       "<table border=\"1\" class=\"dataframe\">\n",
       "  <thead>\n",
       "    <tr style=\"text-align: right;\">\n",
       "      <th></th>\n",
       "      <th>Name</th>\n",
       "      <th>Wage</th>\n",
       "    </tr>\n",
       "    <tr>\n",
       "      <th>Year</th>\n",
       "      <th></th>\n",
       "      <th></th>\n",
       "    </tr>\n",
       "  </thead>\n",
       "  <tbody>\n",
       "    <tr>\n",
       "      <th>2017</th>\n",
       "      <td>EDWARD HARRINGTON</td>\n",
       "      <td>294580.02</td>\n",
       "    </tr>\n",
       "    <tr>\n",
       "      <th>2018</th>\n",
       "      <td>Gregory Suhr</td>\n",
       "      <td>302578.00</td>\n",
       "    </tr>\n",
       "    <tr>\n",
       "      <th>2019</th>\n",
       "      <td>Gregory P Suhr</td>\n",
       "      <td>319275.01</td>\n",
       "    </tr>\n",
       "    <tr>\n",
       "      <th>2020</th>\n",
       "      <td>Amy P Hart</td>\n",
       "      <td>318835.49</td>\n",
       "    </tr>\n",
       "  </tbody>\n",
       "</table>\n",
       "</div>"
      ],
      "text/plain": [
       "                   Name       Wage\n",
       "Year                              \n",
       "2017  EDWARD HARRINGTON  294580.02\n",
       "2018       Gregory Suhr  302578.00\n",
       "2019     Gregory P Suhr  319275.01\n",
       "2020         Amy P Hart  318835.49"
      ]
     },
     "execution_count": 127,
     "metadata": {},
     "output_type": "execute_result"
    }
   ],
   "source": [
    "#Q22: Find out the employee with the highest 'Wage' in each year (2 p).\n",
    "max_wage = df.groupby(\"Year\")[\"Wage\"].idxmax()\n",
    "df.loc[max_wage, [\"Year\", \"Name\", \"Wage\"]].set_index(\"Year\")"
   ]
  },
  {
   "cell_type": "code",
   "execution_count": 153,
   "metadata": {},
   "outputs": [
    {
     "data": {
      "text/plain": [
       "Title\n",
       "Sales Clerk               9421\n",
       "Public Officer            8308\n",
       "Administrative Support    4952\n",
       "Name: Title, dtype: int64"
      ]
     },
     "execution_count": 153,
     "metadata": {},
     "output_type": "execute_result"
    }
   ],
   "source": [
    "#Q23: Find out the top three most common job titles (0.75 p).\n",
    "df.groupby(\"Title\")[\"Title\"].count().sort_values(ascending = False).head(3)"
   ]
  },
  {
   "cell_type": "code",
   "execution_count": 157,
   "metadata": {},
   "outputs": [
    {
     "data": {
      "text/plain": [
       "995"
      ]
     },
     "execution_count": 157,
     "metadata": {},
     "output_type": "execute_result"
    }
   ],
   "source": [
    "#Q24: Find out the number of unique job titles in 2020 (0.75 p).\n",
    "df[df[\"Year\"] == 2020][\"Title\"].nunique()"
   ]
  },
  {
   "cell_type": "code",
   "execution_count": 161,
   "metadata": {},
   "outputs": [
    {
     "data": {
      "text/plain": [
       "175"
      ]
     },
     "execution_count": 161,
     "metadata": {},
     "output_type": "execute_result"
    }
   ],
   "source": [
    "#Q25: Find out the number of job titles that are held by only one individual in 2020 (1 p).\n",
    "(df[df[\"Year\"] == 2020][\"Title\"].value_counts() == 1).sum()"
   ]
  },
  {
   "cell_type": "code",
   "execution_count": 163,
   "metadata": {},
   "outputs": [
    {
     "data": {
      "text/plain": [
       "74"
      ]
     },
     "execution_count": 163,
     "metadata": {},
     "output_type": "execute_result"
    }
   ],
   "source": [
    "#Q26: Find out the number of job titles that are held by more than 100 individuals in 2020 (0.5 p).\n",
    "(df[df[\"Year\"] == 2020][\"Title\"].value_counts() > 100).sum()"
   ]
  },
  {
   "cell_type": "code",
   "execution_count": 165,
   "metadata": {},
   "outputs": [
    {
     "data": {
      "text/plain": [
       "7692"
      ]
     },
     "execution_count": 165,
     "metadata": {},
     "output_type": "execute_result"
    }
   ],
   "source": [
    "#Q27: How many employees do not reside in NY but have a title that includes the word 'police' (considering all case variations) (2 p)?\n",
    "df[(df[\"State\"] != \"NY\") & (df[\"Title\"].str.contains(\"Police\", case = False))][\"ID\"].count()"
   ]
  }
 ],
 "metadata": {
  "kernelspec": {
   "display_name": "Python 3 (ipykernel)",
   "language": "python",
   "name": "python3"
  },
  "language_info": {
   "codemirror_mode": {
    "name": "ipython",
    "version": 3
   },
   "file_extension": ".py",
   "mimetype": "text/x-python",
   "name": "python",
   "nbconvert_exporter": "python",
   "pygments_lexer": "ipython3",
   "version": "3.12.4"
  }
 },
 "nbformat": 4,
 "nbformat_minor": 4
}
